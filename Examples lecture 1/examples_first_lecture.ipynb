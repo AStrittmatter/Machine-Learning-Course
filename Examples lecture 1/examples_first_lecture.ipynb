{
 "cells": [
  {
   "cell_type": "markdown",
   "metadata": {},
   "source": [
    "# Examples First Lecture"
   ]
  },
  {
   "cell_type": "markdown",
   "metadata": {},
   "source": [
    "**Author:**\n",
    "[Anthony Strittmatter](http://www.anthonystrittmatter.com)\n"
   ]
  },
  {
   "cell_type": "markdown",
   "metadata": {},
   "source": [
    "We have acces to web-scraped data from the online auction platform *MyLemons* and estimate the hedonic prices of used-cars. We restrict the sample to BMW 320 series, Opel Astra, Mercedes C-class, VW Golf, and VW Passat. We select used-cars with a mileage between 10,000-200,000 km and an age between 1-20 years. The data is stored in the file *mylemon.csv*.  \n",
    "\n",
    "We observe the following variables:\n",
    "\n",
    "\n",
    "|Variable name| Description|\n",
    "|:----|:----|\n",
    "|**Outcome variables** ||\n",
    "|*first_price*| First asking price in 1,000 EUR |\n",
    "|**Baseline covariates**| |\n",
    "|*bmw_320, opel_astra, mercedes_c, vw_golf, vw_passat*| Dummies for the car make and model|\n",
    "|*mileage*| Mileage of the used car (in 1,000 km)|\n",
    "|*age_car_years*| Age of the used car (in years)|\n",
    "|*mileage2, mileage3, mileage4, age_car_years2, age_car_years3, age_car_years4*| Squared, cubic, and quadratic *mileage* and *age_car_years* |\n",
    "|*diesel*| Dummy for diesel engines |\n",
    "|*private_seller*| Dummy for private seller (as opposed to professional sellers) |\n",
    "|*other_car_owner*| Number of previous car owners |\n",
    "|*guarantee*| Dummy indicating that the seller offers a guarantee for the used car|\n",
    "|*maintenance_cert*| Dummy indicating that the seller has a complete maintenace certificate for the used car|\n",
    "|*pm_green*| Dummy indicating that the used car has low particular matter emissions|\n",
    "|*co2_em*| CO2 emssion (in g/km)|\n",
    "|*dur_next_ins_0*| Dummy indicating that the duration until the next general inspection is less than a years |\n",
    "|*dur_next_ins_1_2*| Dummy indicating that the duration until the next general inspection is between 1 and 2 years |\n",
    "|*new_inspection*| Dummy indicating that the used car has a new general inspection |\n",
    "|*euro_1, euro_2, euro_3, euro_4, euro_5, euro_6*| Dummies for EURO emission norms |"
   ]
  },
  {
   "cell_type": "markdown",
   "metadata": {},
   "source": [
    "## Load Data \n"
   ]
  },
  {
   "cell_type": "code",
   "execution_count": 1,
   "metadata": {},
   "outputs": [
    {
     "name": "stdout",
     "output_type": "stream",
     "text": [
      "[1] \"Data frame successfully loaded.\"\n"
     ]
    }
   ],
   "source": [
    "# Set seed\n",
    "set.seed(12345)\n",
    "\n",
    "# Load data frame\n",
    "df_train <- read.csv(\"Data/used_cars_train.csv\",header=TRUE, sep=\",\")\n",
    "df_test <- read.csv(\"Data/used_cars_test.csv\",header=TRUE, sep=\",\")\n",
    "\n",
    "# Specify Outcome Variable\n",
    "first_price_train <- as.matrix(df_train[,2])\n",
    "first_price_test <- as.matrix(df_test[,2])\n",
    "\n",
    "# Specify Covariates\n",
    "#First Variable is the Intercept\n",
    "covariates_train <- as.matrix(cbind(rep(1,nrow(df_train)),df_train[,c(3:ncol(df_train))]))\n",
    "covariates_test <- as.matrix(cbind(rep(1,nrow(df_test)),df_test[,c(3:ncol(df_test))])) \n",
    "\n",
    "print('Data frame successfully loaded.')"
   ]
  },
  {
   "cell_type": "markdown",
   "metadata": {},
   "source": [
    "## Estimation"
   ]
  },
  {
   "cell_type": "markdown",
   "metadata": {},
   "source": [
    "We estimate different OLS models. We start with  model that contains only a constant. Then we increase the number of covariates succesively. For each OLS model, we calculate the MSE in the training and test sample."
   ]
  },
  {
   "cell_type": "code",
   "execution_count": 2,
   "metadata": {},
   "outputs": [
    {
     "name": "stdout",
     "output_type": "stream",
     "text": [
      "[1] \"Models are estimated.\"\n"
     ]
    }
   ],
   "source": [
    "########################  Estimation  ########################\n",
    "\n",
    "# Generate Matrices to Store the Results\n",
    "mse <- matrix(NA, nrow = ncol(covariates_train), ncol = 2) \n",
    "y_hat_train <- matrix(NA,nrow = nrow(first_price_train), ncol = ncol(covariates_train)) #Training sample\n",
    "y_hat_test <- matrix(NA,nrow = nrow(first_price_test), ncol = ncol(covariates_train)) # Test sample\n",
    "\n",
    "# Estimate Different OLS Models\n",
    "# Start with a model containing only an intercept\n",
    "# Add covariates one-by-one\n",
    "for (c in (1:ncol(covariates_train))){\n",
    "  formular <- lm.fit(as.matrix(covariates_train[,c(1:c)]),first_price_train) # OLS regression\n",
    "  y_hat_train[,c] <- formular$fitted.values # Fitted values in training sample\n",
    "  coef <- as.matrix(formular$coefficients) # Store vector of coefficients\n",
    "  coef[is.na(coef)] <- 0 # Replace NAs with 0 (in case of perfect multicolinearity)\n",
    "  y_hat_test[,c] <- covariates_test[,c(1:c)] %*% coef # Fitted values in test sample\n",
    "  mse[c,1] <- round(mean((y_hat_train[,c] - first_price_train)^2),digits=3) # MSE of training sample\n",
    "  mse[c,2] <- mean((y_hat_test[,c] - first_price_test)^2) # MSE of test sample\n",
    "}\n",
    "\n",
    "# Add Column with Number of Covariates\n",
    "mse <- cbind(mse,seq(1,nrow(mse)))\n",
    "\n",
    "print('Models are estimated.')"
   ]
  },
  {
   "cell_type": "markdown",
   "metadata": {},
   "source": [
    "## Plot the MSE in Training Sample"
   ]
  },
  {
   "cell_type": "code",
   "execution_count": 3,
   "metadata": {},
   "outputs": [
    {
     "name": "stdout",
     "output_type": "stream",
     "text": [
      "[1] \"MSE for K = 1: 46.948\"\n",
      "[1] \"MSE for K = 10: 9.819\"\n",
      "[1] \"MSE for K = 40: 4.866\"\n"
     ]
    },
    {
     "data": {
      "image/png": "[encoded data removed]",
      "text/plain": [
       "plot without title"
      ]
     },
     "metadata": {},
     "output_type": "display_data"
    }
   ],
   "source": [
    "##################### Plot MSE in Training Sample ##################### \n",
    "\n",
    "plot(mse[,3],mse[,1], type = \"n\", ylab = \"MSE\", xlab = \"Number of Covariates\")\n",
    "lines(mse[,3],mse[,1])\n",
    "\n",
    "print(paste0(\"MSE for K = 1: \",mse[1,1]))\n",
    "print(paste0(\"MSE for K = 10: \",mse[10,1]))\n",
    "print(paste0(\"MSE for K = 40: \",mse[40,1]))"
   ]
  },
  {
   "cell_type": "markdown",
   "metadata": {},
   "source": [
    "## Scatterplot Predicted Prices in Training Sample"
   ]
  },
  {
   "cell_type": "code",
   "execution_count": 4,
   "metadata": {},
   "outputs": [
    {
     "data": {
      "image/png": "[encoded data removed]",
      "text/plain": [
       "plot without title"
      ]
     },
     "metadata": {},
     "output_type": "display_data"
    }
   ],
   "source": [
    "##################### Scatterplot Predicted Prices in Training Sample ##################### \n",
    "\n",
    "plot(first_price_train,y_hat_train[,1],xlim=c(5,30),ylim=c(5,30), col= \"darkgreen\", xlab = \"Observed Price\", ylab = \"Predicted Price\" )\n",
    "par(new=TRUE)\n",
    "plot(first_price_train,y_hat_train[,10],xlim=c(5,30),ylim=c(5,30), col= \"blue\", xlab = \"Observed Price\", ylab = \"Predicted Price\" )\n",
    "par(new=TRUE)\n",
    "plot(first_price_train,y_hat_train[,40],xlim=c(5,30),ylim=c(5,30), col= \"red\", xlab = \"Observed Price\", ylab = \"Predicted Price\" )\n",
    "abline(a=0,b=1)\n",
    "legend(24.5, 14, c(\"K=1\", \"K=10\", \"K=40\"), col = c(\"darkgreen\", \"blue\", \"red\"), pch = c(21, 21, 21))"
   ]
  },
  {
   "cell_type": "markdown",
   "metadata": {},
   "source": [
    "## Plot MSE in Test Sample"
   ]
  },
  {
   "cell_type": "code",
   "execution_count": 5,
   "metadata": {},
   "outputs": [
    {
     "name": "stdout",
     "output_type": "stream",
     "text": [
      "[1] \"MSE for K = 1: 45.742\"\n",
      "[1] \"MSE for K = 10: 8.222\"\n",
      "[1] \"MSE for K = 40: 46.499\"\n"
     ]
    },
    {
     "data": {
      "image/png": "[encoded data removed]",
      "text/plain": [
       "plot without title"
      ]
     },
     "metadata": {},
     "output_type": "display_data"
    }
   ],
   "source": [
    "##################### Plot MSE in Test Sample ##################### \n",
    "\n",
    "plot(mse[,3],mse[,2], type = \"n\", ylab = \"MSE\", xlab = \"Number of Covariates\")\n",
    "lines(mse[,3],mse[,2])\n",
    "\n",
    "print(paste0(\"MSE for K = 1: \", round(mse[1,2], digits =3)))\n",
    "print(paste0(\"MSE for K = 10: \", round(mse[10,2], digits =3)))\n",
    "print(paste0(\"MSE for K = 40: \", round(mse[40,2], digits =3)))"
   ]
  },
  {
   "cell_type": "markdown",
   "metadata": {},
   "source": [
    "## Scatterplot Predicted Prices in Test Sample"
   ]
  },
  {
   "cell_type": "code",
   "execution_count": 6,
   "metadata": {},
   "outputs": [
    {
     "data": {
      "image/png": "[encoded data removed]",
      "text/plain": [
       "plot without title"
      ]
     },
     "metadata": {},
     "output_type": "display_data"
    }
   ],
   "source": [
    "##################### Scatterplot Predicted Prices in Test Sample ##################### \n",
    "\n",
    "plot(first_price_test,y_hat_test[,1],xlim=c(5,30),ylim=c(5,30), col= \"darkgreen\", xlab = \"Observed Price\", ylab = \"Predicted Price\")\n",
    "par(new=TRUE)\n",
    "plot(first_price_test,y_hat_test[,10],xlim=c(5,30),ylim=c(5,30), col= \"blue\", xlab = \"Observed Price\", ylab = \"Predicted Price\")\n",
    "par(new=TRUE)\n",
    "plot(first_price_test,y_hat_test[,40],xlim=c(5,30),ylim=c(5,30), col= \"red\", xlab = \"Observed Price\", ylab = \"Predicted Price\")\n",
    "abline(a=0,b=1)\n",
    "legend(24.5, 14, c(\"K=1\", \"K=10\", \"K=40\"), col = c(\"darkgreen\", \"blue\", \"red\"), pch = c(21, 21, 21))"
   ]
  },
  {
   "cell_type": "markdown",
   "metadata": {},
   "source": [
    "# Simulation of Bias-Variance Trade-Off"
   ]
  },
  {
   "cell_type": "markdown",
   "metadata": {},
   "source": [
    "We load a large data set from *myLemons* with 104,721 observations and the same covariates as above. We take one observation to the test sample. We simulate the used car prices with the linear model\n",
    "\\begin{equation*}\n",
    "price =  X\\hat{\\beta} + \\epsilon,\n",
    "\\end{equation*}\n",
    "where $\\hat{\\beta}$ is obtained from OLS estimates in the real data and $\\epsilon \\sim N(0,sd^2)$ (with $sd = 3$) adds artifical noise to the DGP. We subsample the data in $sub = 1500$ partitions.\n",
    "\n",
    "For each subsample, we estimate an OLS model on the simulated price. We add covariates successively. We start with a model containing only a constant. The final model contains all observable covariates. We calulate the MSE, squared-bias, and variance accross all simulations,\n",
    "\\begin{equation*}\n",
    "MSE = Var(\\hat{Y}) + Bias(\\hat{Y})^2 + Var(\\epsilon).\n",
    "\\end{equation*}"
   ]
  },
  {
   "cell_type": "code",
   "execution_count": 7,
   "metadata": {},
   "outputs": [
    {
     "data": {
      "image/png": "[encoded data removed]",
      "text/plain": [
       "plot without title"
      ]
     },
     "metadata": {},
     "output_type": "display_data"
    }
   ],
   "source": [
    "############################# Simulation of Bias-Variance Trade-Off ############################# \n",
    "\n",
    "# Set input parameters for the simulation\n",
    "sub = 1500 # number of subamples\n",
    "sd = 3 # irreducable noise\n",
    "\n",
    "# Load data\n",
    "data_raw <- read.csv(\"Data/mylemon.csv\",header=TRUE, sep=\",\") # Load larger data set\n",
    "\n",
    "# Set starting values for random number generator\n",
    "set.seed(100001)\n",
    "\n",
    "# Select training and test sample\n",
    "df_train <- data_raw[-1,] # drops the first observation\n",
    "df_test <- data_raw[1,] # contains only the first observation\n",
    "\n",
    "# Define outcome and control variables\n",
    "first_price_train <- as.matrix(df_train[,2])\n",
    "first_price_test <- as.matrix(df_test[,2])\n",
    "covariates_train <- as.matrix(cbind(rep(1,nrow(df_train)),df_train[,c(3:ncol(df_train))]))\n",
    "covariates_test <- as.matrix(cbind(rep(1,nrow(df_test)),df_test[,c(3:ncol(df_test))]))\n",
    "\n",
    "# Simulate the Data Generating Process\n",
    "u_tr <- matrix(rnorm(nrow(first_price_train),0,sd),nrow= nrow(first_price_train), ncol =1) # Irreducable noise\n",
    "# Estimate the empirical coefficients\n",
    "formular <- lm.fit(rbind(covariates_train[,c(1:10)],covariates_test[,c(1:10)]),rbind(first_price_train,first_price_test))\n",
    "coef <- as.matrix(formular$coefficients)\n",
    "coef[is.na(coef)] <- 0\n",
    "# Simulate the price based on empricial coeffcents, observed covariates, and noise\n",
    "y_new_train <- covariates_train[,c(1:10)] %*% coef  +u_tr \n",
    "y_0 <- covariates_test[,c(1:10)] %*% coef \n",
    "p <- as.matrix(ceiling(runif(nrow(df_train),0,sub))) # define sample partitions\n",
    "\n",
    "# Estimate different OLS models on simulated price\n",
    "mse <- matrix(NA, nrow = ncol(covariates_train), ncol = sub)\n",
    "y_hat_test <- matrix(NA, nrow = ncol(covariates_train), ncol = sub)\n",
    "for (n in (1:sub)) { # iterate through replications of DGP\n",
    "    for (c in (1:ncol(covariates_train))){ # iterate through OLS models with different number ofcovariates\n",
    "        formular <- lm.fit(as.matrix(covariates_train[p==n,c(1:c)]),y_new_train[p==n,])\n",
    "        y_hat_train <- formular$fitted.values\n",
    "        coef <- as.matrix(formular$coefficients)\n",
    "        coef[is.na(coef)] <- 0\n",
    "        y_hat_test[c,n] <- covariates_test[,c(1:c)] %*% coef\n",
    "        mse[c,n] <- mean((y_hat_test[c,n] - y_0 - rnorm(1,0,sd))^2)\n",
    "    }\n",
    "}\n",
    "\n",
    "# Aggregate results accross all subsamples\n",
    "test <- matrix(NA, nrow = ncol(covariates_train), ncol = 3)\n",
    "for (c in (1:ncol(covariates_train))){\n",
    "    test[c,1] <- var(y_hat_test[c,])\n",
    "    test[c,2] <- (mean(y_hat_test[c,]) - y_0)^2\n",
    "    test[c,3] <- mean(mse[c,]) \n",
    "}\n",
    "test <- cbind(test,seq(1,nrow(test)))\n",
    "\n",
    "# Plot Bias-Variance Trade-Off\n",
    "plot(test[,4],test[,3], type = \"n\", ylab = \"\", xlab = \"Number of Covariates\", ylim = c(0,45))\n",
    "lines(test[,4],test[,3], col = \"red\",lwd = 2)\n",
    "par(new=TRUE)\n",
    "lines(test[,4],test[,2], col = \"darkgreen\",lwd = 2)\n",
    "par(new=TRUE)\n",
    "lines(test[,4],test[,1], col = \"orange\",lwd = 2)\n",
    "abline(h=sd^2,lty = 3)\n",
    "legend(20, 40, c(\"MSE\", \"Squared-Bias\", \"Variance\"), col = c(\"red\", \"darkgreen\", \"orange\"), lty = c(1,1, 1),lwd = 2)"
   ]
  },
  {
   "cell_type": "markdown",
   "metadata": {},
   "source": [
    "# *LASSO Examples*"
   ]
  },
  {
   "cell_type": "markdown",
   "metadata": {},
   "source": [
    "## Prepare the Data with Fewer Covariates"
   ]
  },
  {
   "cell_type": "code",
   "execution_count": 17,
   "metadata": {},
   "outputs": [
    {
     "name": "stdout",
     "output_type": "stream",
     "text": [
      "[1] \"Data prepared.\"\n"
     ]
    }
   ],
   "source": [
    "# Load Packages\n",
    "library(\"glmnet\")\n",
    "library(\"dplyr\")\n",
    "\n",
    "# Set starting values for random number generator\n",
    "set.seed(10001)\n",
    "\n",
    "# Load data\n",
    "data_raw <- read.csv(\"Data/mylemon.csv\",header=TRUE, sep=\",\") # Load data set\n",
    "\n",
    "\n",
    "n_obs <- 100\n",
    "data_use <- data_raw[,-c(1,3:5,13:37,40:41)] %>%\n",
    "  dplyr::sample_n(n_obs)\n",
    "\n",
    "\n",
    "# Generate variable with the rows in training data\n",
    "size <- floor(0.5 * nrow(data_use))\n",
    "training_set <- sample(seq_len(nrow(data_use)), size = size)\n",
    "\n",
    "# Select training and test sample\n",
    "df_train <- data_use[training_set,] # drops the first observation\n",
    "df_test <- data_use[-training_set,] # contains only the first observation\n",
    "\n",
    "# Define outcome and control variables\n",
    "first_price_train <- as.matrix(df_train[,1])\n",
    "first_price_test <- as.matrix(df_test[,1])\n",
    "covariates_train <- as.matrix(df_train[,c(2:ncol(df_train))])\n",
    "covariates_test <- as.matrix(df_test[,c(2:ncol(df_test))])\n",
    "\n",
    "print('Data prepared.')"
   ]
  },
  {
   "cell_type": "markdown",
   "metadata": {},
   "source": [
    "## Estimate OLS Model"
   ]
  },
  {
   "cell_type": "code",
   "execution_count": 9,
   "metadata": {},
   "outputs": [
    {
     "data": {
      "text/plain": [
       "\n",
       "Call:\n",
       "lm(formula = first_price ~ ., data = df_train)\n",
       "\n",
       "Residuals:\n",
       "    Min      1Q  Median      3Q     Max \n",
       "-9.1317 -2.3952 -0.4502  2.2725  8.3970 \n",
       "\n",
       "Coefficients:\n",
       "                 Estimate Std. Error t value Pr(>|t|)    \n",
       "(Intercept)      21.24649    3.99314   5.321 4.24e-06 ***\n",
       "diesel            2.07459    1.69501   1.224 0.228137    \n",
       "other_car_owner   0.72972    0.95471   0.764 0.449155    \n",
       "pm_green          1.63525    2.41303   0.678 0.501881    \n",
       "private_seller    6.09999    2.41717   2.524 0.015691 *  \n",
       "guarantee        -2.44042    2.06374  -1.183 0.243978    \n",
       "inspection       -0.81303    1.17304  -0.693 0.492255    \n",
       "maintenance_cert  1.48067    1.99847   0.741 0.463080    \n",
       "mileage          -0.04877    0.02124  -2.296 0.026965 *  \n",
       "age_car_years    -1.29137    0.32300  -3.998 0.000268 ***\n",
       "---\n",
       "Signif. codes:  0 '***' 0.001 '**' 0.01 '*' 0.05 '.' 0.1 ' ' 1\n",
       "\n",
       "Residual standard error: 4.415 on 40 degrees of freedom\n",
       "Multiple R-squared:  0.655,\tAdjusted R-squared:  0.5773 \n",
       "F-statistic: 8.436 on 9 and 40 DF,  p-value: 6.331e-07\n"
      ]
     },
     "metadata": {},
     "output_type": "display_data"
    },
    {
     "name": "stdout",
     "output_type": "stream",
     "text": [
      "[1] \"Training R-squared: 0.655\"\n",
      "[1] \"Test R-squared: 0.606\"\n"
     ]
    }
   ],
   "source": [
    "ols <- lm(first_price ~., data=df_train)\n",
    "summary(ols)\n",
    "\n",
    "# Calculate the MSE\n",
    "predols_train <- predict(ols, newdata = df_train)\n",
    "predols_test <- predict(ols, newdata = df_test)\n",
    "\n",
    "R2_ols_train <- 1- mean((first_price_train - predols_train)^2)/mean((first_price_train - mean(first_price_train))^2)\n",
    "R2_ols_test <- 1- mean((first_price_test - predols_test)^2)/mean((first_price_test - mean(first_price_test))^2)\n",
    "\n",
    "print(paste0(\"Training R-squared: \", round(R2_ols_train, digits =3)))\n",
    "print(paste0(\"Test R-squared: \", round(R2_ols_test, digits =3)))"
   ]
  },
  {
   "cell_type": "markdown",
   "metadata": {},
   "source": [
    "## Lasso Model on Sample 1"
   ]
  },
  {
   "cell_type": "code",
   "execution_count": 10,
   "metadata": {},
   "outputs": [
    {
     "name": "stdout",
     "output_type": "stream",
     "text": [
      "10 x 1 sparse Matrix of class \"dgCMatrix\"\n",
      "                           1\n",
      "(Intercept)      22.77595058\n",
      "diesel            .         \n",
      "other_car_owner   .         \n",
      "pm_green          .         \n",
      "private_seller    0.07607656\n",
      "guarantee        -0.43736119\n",
      "inspection        .         \n",
      "maintenance_cert  .         \n",
      "mileage          -0.03077170\n",
      "age_car_years    -1.01228717\n",
      "[1] \"Training R-squared: 0.543\"\n",
      "[1] \"Test R-squared: 0.611\"\n"
     ]
    }
   ],
   "source": [
    "set.seed(1001)\n",
    "\n",
    "lasso.cv <- cv.glmnet(covariates_train, first_price_train, type.measure = \"mse\", nfolds = 10)\n",
    "coef_lasso <- coef(lasso.cv, s = \"lambda.min\") # save for later comparison\n",
    "print(coef_lasso)\n",
    "\n",
    "# Calculate the MSE\n",
    "predlasso_train <- predict(lasso.cv, newx = covariates_train, s = lasso.cv$lambda.min)\n",
    "predlasso_test <- predict(lasso.cv, newx = covariates_test, s = lasso.cv$lambda.min)\n",
    "\n",
    "R2_lasso_train <- 1- mean((first_price_train - predlasso_train)^2)/mean((first_price_train - mean(first_price_train))^2)\n",
    "R2_lasso_test <- 1- mean((first_price_test - predlasso_test)^2)/mean((first_price_test - mean(first_price_test))^2)\n",
    "\n",
    "print(paste0(\"Training R-squared: \", round(R2_lasso_train, digits =3)))\n",
    "print(paste0(\"Test R-squared: \", round(R2_lasso_test, digits =3)))"
   ]
  },
  {
   "cell_type": "markdown",
   "metadata": {},
   "source": [
    "## Lasso Model on Sample 2"
   ]
  },
  {
   "cell_type": "code",
   "execution_count": 11,
   "metadata": {},
   "outputs": [
    {
     "name": "stdout",
     "output_type": "stream",
     "text": [
      "[1] \"Training R-squared: 0.714\"\n",
      "[1] \"Test R-squared: 0.569\"\n"
     ]
    }
   ],
   "source": [
    "# Set starting values for random number generator\n",
    "set.seed(1299995)\n",
    "\n",
    "n_obs <- 100\n",
    "\n",
    "data_use <- data_raw[-training_set,-c(1,3:5,13:37,40:41)] %>%\n",
    "  dplyr::sample_n(n_obs)\n",
    "\n",
    "# Generate variable with the rows in training data\n",
    "size <- floor(0.5 * nrow(data_use))\n",
    "training_set <- sample(seq_len(nrow(data_use)), size = size)\n",
    "\n",
    "# Select training and test sample\n",
    "df_train <- data_use[training_set,] # drops the first observation\n",
    "\n",
    "\n",
    "# Define outcome and control variables\n",
    "first_price_train <- as.matrix(df_train[,1])\n",
    "covariates_train <- as.matrix(df_train[,c(2:ncol(df_train))])\n",
    "\n",
    "lasso.cv <- cv.glmnet(covariates_train, first_price_train, type.measure = \"mse\", nfolds = 10)\n",
    "coef_lasso_1 <- coef(lasso.cv, s = \"lambda.min\") # save for later comparison\n",
    "\n",
    "# Calculate the MSE\n",
    "predlasso_train_1 <- predict(lasso.cv, newx = covariates_train, s = lasso.cv$lambda.min)\n",
    "predlasso_test_1 <- predict(lasso.cv, newx = covariates_test, s = lasso.cv$lambda.min)\n",
    "\n",
    "R2_lasso_train <- 1- mean((first_price_train - predlasso_train_1)^2)/mean((first_price_train - mean(first_price_train))^2)\n",
    "R2_lasso_test <- 1- mean((first_price_test - predlasso_test_1)^2)/mean((first_price_test - mean(first_price_test))^2)\n",
    "print(paste0(\"Training R-squared: \", round(R2_lasso_train, digits =3)))\n",
    "print(paste0(\"Test R-squared: \", round(R2_lasso_test, digits =3)))"
   ]
  },
  {
   "cell_type": "markdown",
   "metadata": {},
   "source": [
    "## Lasso Model on Sample 3"
   ]
  },
  {
   "cell_type": "code",
   "execution_count": 12,
   "metadata": {},
   "outputs": [
    {
     "name": "stdout",
     "output_type": "stream",
     "text": [
      "[1] \"Training R-squared: 0.692\"\n",
      "[1] \"Test R-squared: 0.363\"\n"
     ]
    }
   ],
   "source": [
    "# Set starting values for random number generator\n",
    "set.seed(1234564578)\n",
    "\n",
    "n_obs <- 100\n",
    "\n",
    "data_use <- data_raw[-training_set,-c(1,3:5,13:37,40:41)] %>%\n",
    "  dplyr::sample_n(n_obs)\n",
    "\n",
    "# Generate variable with the rows in training data\n",
    "size <- floor(0.5 * nrow(data_use))\n",
    "training_set <- sample(seq_len(nrow(data_use)), size = size)\n",
    "\n",
    "# Select training and test sample\n",
    "df_train <- data_use[training_set,] # drops the first observation\n",
    "\n",
    "# Define outcome and control variables\n",
    "first_price_train <- as.matrix(df_train[,1])\n",
    "covariates_train <- as.matrix(df_train[,c(2:ncol(df_train))])\n",
    "\n",
    "lasso.cv <- cv.glmnet(covariates_train, first_price_train, type.measure = \"mse\", nfolds = 10)\n",
    "coef_lasso_2 <- coef(lasso.cv, s = \"lambda.min\") # save for later comparison\n",
    "\n",
    "# Calculate the MSE\n",
    "predlasso_train_2 <- predict(lasso.cv, newx = covariates_train, s = lasso.cv$lambda.min)\n",
    "predlasso_test_2 <- predict(lasso.cv, newx = covariates_test, s = lasso.cv$lambda.min)\n",
    "\n",
    "R2_lasso_train <- 1- mean((first_price_train - predlasso_train_2)^2)/mean((first_price_train - mean(first_price_train))^2)\n",
    "R2_lasso_test <- 1- mean((first_price_test - predlasso_test_2)^2)/mean((first_price_test - mean(first_price_test))^2)\n",
    "print(paste0(\"Training R-squared: \", round(R2_lasso_train, digits =3)))\n",
    "print(paste0(\"Test R-squared: \", round(R2_lasso_test, digits =3)))"
   ]
  },
  {
   "cell_type": "markdown",
   "metadata": {},
   "source": [
    "## Lasso Model on Sample 4"
   ]
  },
  {
   "cell_type": "code",
   "execution_count": 13,
   "metadata": {
    "scrolled": true
   },
   "outputs": [
    {
     "name": "stdout",
     "output_type": "stream",
     "text": [
      "[1] \"Training R-squared: 0.634\"\n",
      "[1] \"Test R-squared: 0.595\"\n"
     ]
    }
   ],
   "source": [
    "# Set starting values for random number generator\n",
    "set.seed(15678)\n",
    "\n",
    "n_obs <- 100\n",
    "\n",
    "data_use <- data_raw[-training_set,-c(1,3:5,13:37,40:41)] %>%\n",
    "  dplyr::sample_n(n_obs)\n",
    "\n",
    "\n",
    "# Generate variable with the rows in training data\n",
    "size <- floor(0.5 * nrow(data_use))\n",
    "training_set <- sample(seq_len(nrow(data_use)), size = size)\n",
    "\n",
    "# Select training and test sample\n",
    "df_train <- data_use[training_set,] # drops the first observation\n",
    "\n",
    "# Define outcome and control variables\n",
    "first_price_train <- as.matrix(df_train[,1])\n",
    "covariates_train <- as.matrix(df_train[,c(2:ncol(df_train))])\n",
    "\n",
    "lasso.cv <- cv.glmnet(covariates_train, first_price_train, type.measure = \"mse\", nfolds = 10)\n",
    "coef_lasso_3 <- coef(lasso.cv, s = \"lambda.min\") # save for later comparison\n",
    "\n",
    "# Calculate the MSE\n",
    "predlasso_train_3 <- predict(lasso.cv, newx = covariates_train, s = lasso.cv$lambda.min)\n",
    "predlasso_test_3 <- predict(lasso.cv, newx = covariates_test, s = lasso.cv$lambda.min)\n",
    "\n",
    "R2_lasso_train <- 1- mean((first_price_train - predlasso_train_3)^2)/mean((first_price_train - mean(first_price_train))^2)\n",
    "R2_lasso_test <- 1- mean((first_price_test - predlasso_test_3)^2)/mean((first_price_test - mean(first_price_test))^2)\n",
    "print(paste0(\"Training R-squared: \", round(R2_lasso_train, digits =3)))\n",
    "print(paste0(\"Test R-squared: \", round(R2_lasso_test, digits =3)))"
   ]
  },
  {
   "cell_type": "markdown",
   "metadata": {},
   "source": [
    "## Lasso Model on Sample 5"
   ]
  },
  {
   "cell_type": "code",
   "execution_count": 14,
   "metadata": {},
   "outputs": [
    {
     "name": "stdout",
     "output_type": "stream",
     "text": [
      "[1] \"Training R-squared: 0.649\"\n",
      "[1] \"Test R-squared: 0.637\"\n"
     ]
    }
   ],
   "source": [
    "# Set starting values for random number generator\n",
    "set.seed(12345678)\n",
    "\n",
    "n_obs <- 100\n",
    "\n",
    "data_use <- data_raw[-training_set,-c(1,3:5,13:37,40:41)] %>%\n",
    "  dplyr::sample_n(n_obs)\n",
    "\n",
    "# Generate variable with the rows in training data\n",
    "size <- floor(0.5 * nrow(data_use))\n",
    "training_set <- sample(seq_len(nrow(data_use)), size = size)\n",
    "\n",
    "# Select training and test sample\n",
    "df_train <- data_use[training_set,] # drops the first observation\n",
    "\n",
    "# Define outcome and control variables\n",
    "first_price_train <- as.matrix(df_train[,1])\n",
    "covariates_train <- as.matrix(df_train[,c(2:ncol(df_train))])\n",
    "\n",
    "lasso.cv <- cv.glmnet(covariates_train, first_price_train, type.measure = \"mse\", nfolds = 10)\n",
    "coef_lasso_4 <- coef(lasso.cv, s = \"lambda.min\") # save for later comparison\n",
    "\n",
    "# Calculate the MSE\n",
    "predlasso_train_4 <- predict(lasso.cv, newx = covariates_train, s = lasso.cv$lambda.min)\n",
    "predlasso_test_4 <- predict(lasso.cv, newx = covariates_test, s = lasso.cv$lambda.min)\n",
    "\n",
    "R2_lasso_train <- 1- mean((first_price_train - predlasso_train_4)^2)/mean((first_price_train - mean(first_price_train))^2)\n",
    "R2_lasso_test <- 1- mean((first_price_test - predlasso_test_4)^2)/mean((first_price_test - mean(first_price_test))^2)\n",
    "print(paste0(\"Training R-squared: \", round(R2_lasso_train, digits =3)))\n",
    "print(paste0(\"Test R-squared: \", round(R2_lasso_test, digits =3)))"
   ]
  },
  {
   "cell_type": "markdown",
   "metadata": {},
   "source": [
    "## Plot Coefficients"
   ]
  },
  {
   "cell_type": "code",
   "execution_count": 15,
   "metadata": {},
   "outputs": [
    {
     "name": "stdout",
     "output_type": "stream",
     "text": [
      "10 x 5 sparse Matrix of class \"dgCMatrix\"\n",
      "                           1           1           1           1           1\n",
      "(Intercept)      22.77595058 25.94670943 24.93712041 27.30922402 25.11615819\n",
      "diesel            .           .           2.38669532  .           0.88561889\n",
      "other_car_owner   .          -1.25651280  0.39294853  .           .         \n",
      "pm_green          .           2.87143287  .           .           .         \n",
      "private_seller    0.07607656  5.09426912  .          -1.03654809  .         \n",
      "guarantee        -0.43736119  1.67708911 15.93856351  .           .         \n",
      "inspection        .          -0.66581206 -0.37443189  .           .         \n",
      "maintenance_cert  .          -2.57929391 -0.86766548  .           .         \n",
      "mileage          -0.03077170 -0.03674104 -0.04082223 -0.06867634 -0.06197067\n",
      "age_car_years    -1.01228717 -1.34700566 -1.41559957 -0.87405094 -1.11453331\n"
     ]
    }
   ],
   "source": [
    "print(cbind(coef_lasso,coef_lasso_1,coef_lasso_2,coef_lasso_3,coef_lasso_4))"
   ]
  },
  {
   "cell_type": "markdown",
   "metadata": {},
   "source": [
    "## Plot Correlation between Predicted Prices in Test Sample"
   ]
  },
  {
   "cell_type": "code",
   "execution_count": 16,
   "metadata": {},
   "outputs": [
    {
     "name": "stdout",
     "output_type": "stream",
     "text": [
      "          1         1         1         1         1\n",
      "1 1.0000000 0.9449604 0.8503190 0.9706181 0.9892612\n",
      "1 0.9449604 1.0000000 0.8139282 0.9109271 0.9361440\n",
      "1 0.8503190 0.8139282 1.0000000 0.8535917 0.8707420\n",
      "1 0.9706181 0.9109271 0.8535917 1.0000000 0.9921241\n",
      "1 0.9892612 0.9361440 0.8707420 0.9921241 1.0000000\n"
     ]
    }
   ],
   "source": [
    "print(cor(cbind(predlasso_test,predlasso_test_1,predlasso_test_2,predlasso_test_3,predlasso_test_4)))"
   ]
  }
 ],
 "metadata": {
  "kernelspec": {
   "display_name": "R",
   "language": "R",
   "name": "ir"
  },
  "language_info": {
   "codemirror_mode": "r",
   "file_extension": ".r",
   "mimetype": "text/x-r-source",
   "name": "R",
   "pygments_lexer": "r",
   "version": "3.6.1"
  }
 },
 "nbformat": 4,
 "nbformat_minor": 2
}
